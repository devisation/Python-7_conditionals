{
 "cells": [
  {
   "cell_type": "markdown",
   "metadata": {},
   "source": [
    "1"
   ]
  },
  {
   "cell_type": "code",
   "execution_count": 4,
   "metadata": {},
   "outputs": [
    {
     "name": "stdout",
     "output_type": "stream",
     "text": [
      "Thank you\n"
     ]
    }
   ],
   "source": [
    "number_in = input(\"Enter a number between 10 and 20 (inclusive): \")\n",
    "if int(number_in) in range(10, 21):\n",
    "    print(\"Thank you\")\n",
    "else:\n",
    "    print(\"Incorrect answer\")"
   ]
  },
  {
   "cell_type": "markdown",
   "metadata": {},
   "source": [
    "2"
   ]
  },
  {
   "cell_type": "code",
   "execution_count": 7,
   "metadata": {},
   "outputs": [
    {
     "name": "stdout",
     "output_type": "stream",
     "text": [
      "y is sometimes a vowel, and sometimes a consonant\n"
     ]
    }
   ],
   "source": [
    "letter_in = input(\"Enter a letter from the english alphabet: \")\n",
    "if letter_in in ['a', 'e', 'i', 'o', 'u']:\n",
    "    print(f'{letter_in} is a vowel.')\n",
    "elif letter_in == 'y':\n",
    "    print(\"y is sometimes a vowel, and sometimes a consonant.\")\n",
    "else:\n",
    "    print(f'{letter_in} is a consonant.')\n"
   ]
  },
  {
   "cell_type": "code",
   "execution_count": null,
   "metadata": {},
   "outputs": [],
   "source": []
  }
 ],
 "metadata": {
  "interpreter": {
   "hash": "23721f7ccdba8d10dbed52de1ec10dc723c7659d2c7ca391d31ecfb7851a1907"
  },
  "kernelspec": {
   "display_name": "Python 3.9.12 ('DataSci')",
   "language": "python",
   "name": "python3"
  },
  "language_info": {
   "codemirror_mode": {
    "name": "ipython",
    "version": 3
   },
   "file_extension": ".py",
   "mimetype": "text/x-python",
   "name": "python",
   "nbconvert_exporter": "python",
   "pygments_lexer": "ipython3",
   "version": "3.9.12"
  },
  "orig_nbformat": 4
 },
 "nbformat": 4,
 "nbformat_minor": 2
}
